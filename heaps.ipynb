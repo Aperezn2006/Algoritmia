{
 "cells": [
  {
   "cell_type": "markdown",
   "id": "3d1fe794",
   "metadata": {},
   "source": [
    " # Heaps\n",
    " \n",
    "* Un heap es un árbol binario cuasicompleto.\n",
    "* Un min heap es un heap $T$ que cumple la propiead de min heap para todo nodo $T'$ de $T$ \n",
    "$$\n",
    "\\text{info}(T') < \\min \\left[ \\text {info} \\left( \\text {izq} (T') \\right), \\text{info} \\left( \\text{der}(T’) \\right) \\right] \n",
    "$$\n",
    "Por tanto el elemento más pequeño está en la raíz.\n",
    "\n",
    "* Un *Heap* es una estructura recursiva: todo sub-árbol del *Heap* es a su vez un *Heap*.\n",
    "\n",
    "* Hay dos principales primitivas dinámicas en min heaps:\n",
    "    * `extract` extrae el elemento más pequeño del min heap, i.e., el de la raíz\n",
    "    * `insert` inserta un nuevo elemento en el min heap\n",
    "    \n",
    "* Ambas permiten implementaciones eficientes si el min heap está almacenado en una lista de Python."
   ]
  },
  {
   "cell_type": "markdown",
   "id": "116739c5",
   "metadata": {},
   "source": [
    "# Heaps implementado con una lista como Estructura de Datos\n",
    "\n",
    "* Supongamos un heap con $n$ elementos amlacenando en una lista con indices $0, \\ldots,  n-1$\n",
    "* Los hijos izquierdo y derecho del nodo en el índice $i$ son los nodos de índices $(2 \\cdot i+1)$ y  $(2 \\cdot i+2)$ respectivamente\n",
    "* El padre del nodo en el indice i es $(i-1)//2$\n"
   ]
  },
  {
   "cell_type": "markdown",
   "id": "11cf7c11",
   "metadata": {},
   "source": [
    "**Ejemplo:**\n",
    "<pre>    \n",
    "            5                                 2\n",
    "          /     \\                           /     \\\n",
    "        10       15                        6        3\n",
    "       /                                 /  \\     /   \\  \n",
    "      30                              10     8   7     5\n",
    "      \n",
    "    [5, 10, 15, 30]                [2, 6, 3, 10, 8, 7, 5] \n",
    "    \n",
    " </pre>\n",
    "        "
   ]
  },
  {
   "cell_type": "markdown",
   "id": "d4148713-40cd-4bc2-af97-9e6e7ec6fac2",
   "metadata": {},
   "source": [
    "**Ejercicio**\n",
    "\n",
    "¿Que ventajas tiene utilizar como Estructura de datos para implementar un Heap una lista (array) y no una lista enlazada de nodos como utilizaste el año pasado para implementar un árbol binario?"
   ]
  },
  {
   "cell_type": "markdown",
   "id": "ead0215d",
   "metadata": {},
   "source": [
    "# Procedimiento heapify_down()\n",
    "\n",
    "* El procedimiento clave para procesar min heaps es la función `heapify_down()` que, aplicada sobre un nodo, garantiza que el subárbol con raíz en ese nodo cumpla la propiedad de min heap.\n",
    "\n",
    "* **Importante** Para poder aplicar el procedimiento `heapify_down()` sobre un determinado nodo, tanto su sub-árbol izquierdo como el derecho deben ser Heaps. \n",
    "\n",
    "* El procedimiento `heapify_down()` cuando se aplica sobre un nodo $i$ compara su valor con el de sus hijos, se intercambia con el de menor valor y vuelve a aplicar el procedimiento `heapify()` sobre el nodo intercambiado hasta que se detiene, bien porqué ya tiene un valor menor que sus hijos o bien porqué el nodo es un nodo hoja.  "
   ]
  },
  {
   "cell_type": "markdown",
   "id": "ff2928aa",
   "metadata": {},
   "source": [
    "             20                                4\n",
    "          /     \\                           /     \\\n",
    "        5        4           ==>          5        10\n",
    "       / \\      /  \\                     /  \\     /   \\  \n",
    "      9   6    10   15                 9     6   20    15\n",
    "      \n",
    "  "
   ]
  },
  {
   "cell_type": "code",
   "execution_count": 23,
   "id": "1f917478-9420-4b6e-9310-2c91ae4b33e5",
   "metadata": {},
   "outputs": [],
   "source": [
    "from typing import List, Any\n",
    "\n",
    "def _left(i: int) -> int:\n",
    "    ''' Devuelve el indice del hijo izquierdo del nodo i'''\n",
    "    return 2*i+1\n",
    "\n",
    "def _right(i: int) -> int:\n",
    "    ''' Devuelve el índice del hijo derecho del nodo i '''\n",
    "    return 2*i+2\n",
    "\n",
    "def _parent(i: int) -> int:\n",
    "    ''' Devuelve el indice del padre del nodo i '''\n",
    "    return (i-1)//2  \n",
    "\n",
    "def heapify_down(h: List, i: int) -> None:\n",
    "    ''' Restaura la propiedad de min-heap desde el índice i hacia abajo. \n",
    "    Version iterativa 1'''\n",
    "    \n",
    "    exchange = True      \n",
    "    while exchange:\n",
    "        minimum = i\n",
    "        l = _left(i)\n",
    "        r = _right(i)\n",
    "        \n",
    "        # if there are childs, get the minimum \n",
    "        if l < len(h) and h[i] > h[l]:\n",
    "            minimum = l\n",
    "        if r < len(h) and h[r] < h[minimum]:\n",
    "            minimum = r\n",
    "        \n",
    "        # exchange the node i with the minimum node\n",
    "        if  minimum != i:\n",
    "            h[i], h[minimum] = h[minimum], h[i]\n",
    "            i = minimum\n",
    "            exchange = True\n",
    "        else:\n",
    "            exchange = False"
   ]
  },
  {
   "cell_type": "code",
   "execution_count": 8,
   "id": "0fee3276-258f-45d0-b950-e80e115be544",
   "metadata": {},
   "outputs": [
    {
     "name": "stdout",
     "output_type": "stream",
     "text": [
      "[4, 5, 10, 9, 6, 20, 15]\n"
     ]
    }
   ],
   "source": [
    "# Driver program\n",
    "# H no es heap, pero el sub-árbol izquierdo y el derecho del nodo raiz son Heaps\n",
    "h = [20, 5, 4, 9, 6, 10, 15]\n",
    "\n",
    "heapify_down(h, 0)\n",
    "print(h)"
   ]
  },
  {
   "cell_type": "code",
   "execution_count": 16,
   "id": "89550ed3",
   "metadata": {},
   "outputs": [
    {
     "name": "stdout",
     "output_type": "stream",
     "text": [
      "[7, 13, 10, 50, 14, 17]\n"
     ]
    }
   ],
   "source": [
    "def heapify_down(h: List, i: int) -> None:\n",
    "    ''' Version iterativa 2 (transparencias)'''\n",
    "    while 2*i+1 < len(h):\n",
    "        n_i = i\n",
    "        \n",
    "        if h[i] > h[2*i+1]:\n",
    "            n_i = 2*i+1\n",
    "        if 2*i+2 < len(h) and h[i] > h[2*i+2] and h[2*i+2] < h[n_i]:\n",
    "            n_i = 2*i+2\n",
    "\n",
    "        if n_i > i:\n",
    "            h[i], h[n_i] = h[n_i], h[i]\n",
    "            i = n_i\n",
    "        else:\n",
    "            return\n",
    "\n",
    "# Driver programm\n",
    "h = [50, 7, 10, 13, 14, 17]\n",
    "\n",
    "heapify_down(h, 0)\n",
    "print(h)"
   ]
  },
  {
   "cell_type": "markdown",
   "id": "60fe6245",
   "metadata": {},
   "source": [
    "**Ejercicio**\n",
    "\n",
    "Muestra que el coste del procedimiento  `heapify_down()`es claramente $O(\\text{prof} (h)) = O(\\log n) $"
   ]
  },
  {
   "cell_type": "markdown",
   "id": "a0b96831-d197-4059-96ad-6cf1a827a203",
   "metadata": {},
   "source": [
    "**Solución**\n",
    "\n",
    "1. **Coste de las operaciones dentro del bucle**  \n",
    "   - En cada iteración se calculan los índices `left` y `right` con multiplicaciones y sumas: coste **O(1)**.  \n",
    "   - Se realizan comparaciones entre enteros (`heap[left] < heap[smallest]`, etc.): cada una es coste **O(1)**.  \n",
    "   - La asignación de `minimum` es coste **O(1)**.  \n",
    "   - En caso de ser necesario, el intercambio de dos elementos del array también es coste **O(1)**.  \n",
    "\n",
    "   Por lo tanto, **cada iteración del bucle tiene coste constante O(1)**.\n",
    "\n",
    "2. **Número de iteraciones del bucle**  \n",
    "   - El bucle `while` avanza desde el nodo `i` hacia abajo en el heap, siguiendo siempre el hijo más pequeño.  \n",
    "   - En el peor caso, el nodo se desplaza desde la raíz hasta una hoja.  \n",
    "   - La altura máxima de un heap binario de tamaño `n` es:  \n",
    "\n",
    "   $$\n",
    "     h = \\lfloor \\ln (n) \\rfloor\n",
    "   $$\n",
    "\n",
    "   - Por tanto, el número máximo de iteraciones es $O(\\ln n)$$.\n",
    "\n",
    "3. **Coste total del procedimiento**  \n",
    "   - Cada iteración cuesta **O(1)**.  \n",
    "   - El bucle se ejecuta como máximo **O(log n)** veces.  \n",
    "\n",
    "   Así, el coste total es:\n",
    "\n",
    "   $$\n",
    "   T(n) = O(1) \\cdot O(\\ln n) = O(\\ln n)\n",
    "   $$\n",
    "\n",
    "**Conclusión**:  \n",
    "El procedimiento `Heapify_down()` en un min-heap tiene coste $O(\\ln n)$ en el peor caso, porque en cada nivel del heap solo se hacen un número constante de operaciones, y como máximo se recorre la altura del heap.\n"
   ]
  },
  {
   "cell_type": "markdown",
   "id": "a34636c7",
   "metadata": {},
   "source": [
    "  **Ejercicio:** Proporciona una versión recursiva de `heapfy()`"
   ]
  },
  {
   "cell_type": "markdown",
   "id": "b5a0e3b9",
   "metadata": {},
   "source": [
    "# Extraer la raíz de un min-Heap"
   ]
  },
  {
   "cell_type": "markdown",
   "id": "57dfb484",
   "metadata": {},
   "source": [
    "* Para extraer la raíz:\n",
    "    * Guardamos la ráiz del Heap\n",
    "    * Substituir el nodo raíz por el último elemento del Heap\n",
    "    * Eliminar el último elemento del heap\n",
    "    * Aplicamos el procedimiento `heapify_down()` desde la nueva raíz"
   ]
  },
  {
   "cell_type": "markdown",
   "id": "1665b258",
   "metadata": {},
   "source": [
    "             4                                 5\n",
    "          /     \\                           /     \\\n",
    "        5        10           ==>          6       10\n",
    "       / \\      /  \\                     /  \\     /     \n",
    "      9   6    20   15                 9     15  20\n",
    "      \n",
    "  "
   ]
  },
  {
   "cell_type": "code",
   "execution_count": 25,
   "id": "fa7c0903-1ee0-4b2b-8016-ffd455aee8df",
   "metadata": {},
   "outputs": [],
   "source": [
    "from typing import List, Any\n",
    "\n",
    "def minheap_extract(h: List) -> Any:\n",
    "    ''''Remove and return the root. Raise KeyError if empty.'''\n",
    "\n",
    "    n = len(h)\n",
    "    if n == 0:\n",
    "        raise IndexError('Empty heap')\n",
    "    \n",
    "    min_value = h[0]\n",
    "    \n",
    "    # copy the last node on the root\n",
    "    h[0] =  h[n - 1]\n",
    "    \n",
    "    h.pop()\n",
    "    heapify_down(h, 0)\n",
    "    \n",
    "    return min_value"
   ]
  },
  {
   "cell_type": "code",
   "execution_count": null,
   "id": "0ec060ce-0b70-40e3-95cc-da510139fb6c",
   "metadata": {},
   "outputs": [
    {
     "name": "stdout",
     "output_type": "stream",
     "text": [
      "Heap: [4, 5, 10, 9, 6, 20, 15]\n",
      "4\n",
      "Heap despues de extraer: [5, 6, 10, 9, 15, 20]\n"
     ]
    }
   ],
   "source": [
    "##### Drive program\n",
    "\n",
    "h = [4, 5, 10, 9, 6, 20, 15]\n",
    "heapify(h, 0)\n",
    "print(f'Heap: {h}')\n",
    "\n",
    "print (minheap_extract(h))\n",
    "print(f'Heap despues de extraer: {h}')"
   ]
  },
  {
   "cell_type": "markdown",
   "id": "904aa609",
   "metadata": {},
   "source": [
    "* El coste de la extracción claramente es $O(\\log n)$"
   ]
  },
  {
   "cell_type": "markdown",
   "id": "48dda394",
   "metadata": {},
   "source": [
    "# Insertar un nuevo elemento en un min-Heap\n",
    "\n",
    "Supongamos que disponemos de un Heap y se desea insertar un nuevo elemento. El procedimiento sería el siguiente: "
   ]
  },
  {
   "cell_type": "code",
   "execution_count": 40,
   "id": "51a14c71-686a-4162-9590-e35e013fefd5",
   "metadata": {},
   "outputs": [],
   "source": [
    "def minheap_insert(h: List, k: Any) -> None: \n",
    "    ''' Procedimiento para insertar un elemento en un min Heap '''\n",
    "    h.append(k)\n",
    "    j = len(h) - 1   # ultima posicion de la lista \n",
    "    \n",
    "    while j > 0 and h[j] < h[_parent(j)]:\n",
    "        h[j], h[_parent(j)] =  h[_parent(j)], h[j]\n",
    "        j = _parent(j)"
   ]
  },
  {
   "cell_type": "code",
   "execution_count": 88,
   "id": "d15452ce-3381-4884-aa3c-0af87a6245e6",
   "metadata": {},
   "outputs": [
    {
     "name": "stdout",
     "output_type": "stream",
     "text": [
      "Heap: [7, 13, 10, 50, 14, 25]\n",
      "Heap despues de insertar la llave 1: [1, 13, 7, 50, 14, 25, 10]\n"
     ]
    }
   ],
   "source": [
    "# Drive program\n",
    "\n",
    "h = [50, 7, 10, 13, 14, 25]    # lista no es un heap\n",
    "heapify_down(h, 0)             # Construyo el heap\n",
    "print(f'Heap: {h}')\n",
    "\n",
    "key = 1\n",
    "minheap_insert(h, key)       # inserto la llave en la lista     \n",
    "print(f'Heap despues de insertar la llave {key}: {h}')"
   ]
  },
  {
   "cell_type": "markdown",
   "id": "44eb2538-77d3-4d30-af4c-de661d8443f5",
   "metadata": {},
   "source": [
    "El bucle _while_ amenudo se denota como procedimiento `heapify_up()`"
   ]
  },
  {
   "cell_type": "code",
   "execution_count": 86,
   "id": "f1dd1b80-3961-4652-9767-c1e036cef57d",
   "metadata": {},
   "outputs": [],
   "source": [
    "def heapify_up(h: List, i:int):\n",
    "    p = _parent(i)\n",
    "    if i == 0 or h[i] > h[p]:\n",
    "        return\n",
    "    h[i], h[p] = h[p], h[i]\n",
    "    heapify_up(h, p)\n",
    "\n",
    "def minheap_insert(h: List, k: Any) -> None: \n",
    "    h.append(k)\n",
    "    j = len(h) - 1   #ultima posicion de la lista \n",
    "    \n",
    "    heapify_up(h, j)"
   ]
  },
  {
   "cell_type": "markdown",
   "id": "8ae9f0c1",
   "metadata": {},
   "source": [
    "* El coste de la insercción claramente es $O(\\ln n)$"
   ]
  },
  {
   "cell_type": "markdown",
   "id": "27fc3016",
   "metadata": {},
   "source": [
    "# Construyendo un Heap"
   ]
  },
  {
   "cell_type": "markdown",
   "id": "82a1db8b",
   "metadata": {},
   "source": [
    "Si el contenedor del heap (es decir, la lista subyacente) está inicialmente vacío y los elementos llegan de manera incremental —por ejemplo, a través de un flujo de datos o de forma interactiva—, la estructura puede construirse insertando cada elemento de forma individual mediante llamadas sucesivas a la función `heap_insert()`.\n",
    "\n",
    "Como hemos visto en esta estrategia, cada inserción coloca el nuevo elemento en la última posición de la lista y posteriormente ejecuta el procedimiento `heapify_up()` para restaurar la propiedad de heap. \n",
    "El coste de una única inserción es $O( \\ln ⁡n)$ ya que, en el peor caso, el elemento recién añadido puede ascender hasta la raíz. Por tanto, construir un heap completo de \n",
    "$n$ elementos a través de este método incremental requiere un coste total de  $O(n \\cdot \\ln ⁡n)$\n",
    "\n",
    "Este procedimiento resulta natural cuando los datos no están disponibles de antemano (por ejemplo, en flujos de entrada continuos) y, en tales situaciones, constituye el mecanismo estándar de construcción de la estructura. Sin embargo, cuando la colección completa de elementos está disponible desde el principio, hay otras estartegias más eficientesO(n)."
   ]
  },
  {
   "cell_type": "code",
   "execution_count": 178,
   "id": "5371d08f",
   "metadata": {},
   "outputs": [
    {
     "name": "stdout",
     "output_type": "stream",
     "text": [
      "Estado del Heap tras insertar 10: [10]\n",
      "Estado del Heap tras insertar 1: [1, 10]\n",
      "Estado del Heap tras insertar 7: [1, 10, 7]\n",
      "Estado del Heap tras insertar 0: [0, 1, 7, 10]\n"
     ]
    }
   ],
   "source": [
    "\n",
    "h=[] # Se inicializa una lista vacía como EdD para contener los elementos del Heap\n",
    "\n",
    "for element in [10, 1, 7, 0]:    # itero sobre el flujo de datos\n",
    "    minheap_insert(h, element)\n",
    "    print(f'Estado del Heap tras insertar {element}: {h}')"
   ]
  },
  {
   "cell_type": "markdown",
   "id": "7d908f24-7aaa-4fd3-a33c-598fc083fb95",
   "metadata": {},
   "source": [
    "Sin embargo, suponga que ya se dispone de la lista con los elementos y se desea *organizarlos* en un minHeap. *A priori* tenemos dos posibilidades. Ambas son *in-place*, i.e, no requieren de memoria adicional:\n",
    "\n",
    "* `minheap_build()` utiliza el procedimiento `heapify_down()`. Empezando desde el padre del último nodo de la lista invocamos iterativamente al procedimiento `heapify_down(h, i)` decrementando el índice del nodo $i$ en cada iteración.  "
   ]
  },
  {
   "cell_type": "code",
   "execution_count": 143,
   "id": "aa1f231c-6e9d-44f0-a9af-f9aab4656863",
   "metadata": {},
   "outputs": [],
   "source": [
    "def minheap_build(h: List) -> None:\n",
    "    ''' Utiliza heapify_down. Coste O(n) '''\n",
    "    \n",
    "    parent_last_node = _parent(len(h)-1)  # índice del padre del ultimo nodo \n",
    "\n",
    "    for j in range(parent_last_node, -1, -1):\n",
    "        heapify_down(h, j)\n",
    "        print(f'Evolucion de la lista tras procesar el node de indice {j}: {h}') "
   ]
  },
  {
   "cell_type": "code",
   "execution_count": 74,
   "id": "606ab980-1f23-46d8-9fc6-a2b282ee49b6",
   "metadata": {},
   "outputs": [
    {
     "name": "stdout",
     "output_type": "stream",
     "text": [
      "Evolucion de la lista tras procesar el node de indice 3: [10, 9, 7, 1, 4, 5, 8, 2]\n",
      "Evolucion de la lista tras procesar el node de indice 2: [10, 9, 5, 1, 4, 7, 8, 2]\n",
      "Evolucion de la lista tras procesar el node de indice 1: [10, 1, 5, 2, 4, 7, 8, 9]\n",
      "Evolucion de la lista tras procesar el node de indice 0: [1, 2, 5, 9, 4, 7, 8, 10]\n",
      "Heap: [1, 2, 5, 9, 4, 7, 8, 10]\n"
     ]
    }
   ],
   "source": [
    "# Driver program\n",
    "\n",
    "l = [10, 9, 7, 2, 4, 5, 8, 1]\n",
    "minheap_build(l)\n",
    "print(f'Heap: {l}')"
   ]
  },
  {
   "cell_type": "markdown",
   "id": "b7c31ba3",
   "metadata": {},
   "source": [
    "             10                                1\n",
    "          /     \\                           /     \\\n",
    "        9        7           ==>           2       5\n",
    "       / \\      /  \\                     /  \\     /  \\     \n",
    "      2   4    5    8                   9    4   7    8\n",
    "     /                                 /  \n",
    "    1                                 10"
   ]
  },
  {
   "cell_type": "markdown",
   "id": "2e617d96-99c8-4896-8b67-be3add56ed5a",
   "metadata": {},
   "source": [
    "* `minheap_build_insert()`utiliza un procedimiento equivalente a `minheap_insert()`.  Empezando desde el nodo raíz invocamos iterativamente el procedimiento `minheap_insert()`: intercambiándose con su padre, el *nodo va subiendo* por el heap hasta que o bien tiene un valor mayor que su padre o bien llega a la raíz del árbol."
   ]
  },
  {
   "cell_type": "code",
   "execution_count": 99,
   "id": "388c3c40",
   "metadata": {},
   "outputs": [
    {
     "name": "stdout",
     "output_type": "stream",
     "text": [
      "Evolucion de la lista tras procesar el node de indice 0: [10, 9, 7, 2, 4, 5, 8, 1]\n",
      "Evolucion de la lista tras procesar el node de indice 1: [9, 10, 7, 2, 4, 5, 8, 1]\n",
      "Evolucion de la lista tras procesar el node de indice 2: [7, 10, 9, 2, 4, 5, 8, 1]\n",
      "Evolucion de la lista tras procesar el node de indice 3: [2, 7, 9, 10, 4, 5, 8, 1]\n",
      "Evolucion de la lista tras procesar el node de indice 4: [2, 4, 9, 10, 7, 5, 8, 1]\n",
      "Evolucion de la lista tras procesar el node de indice 5: [2, 4, 5, 10, 7, 9, 8, 1]\n",
      "Evolucion de la lista tras procesar el node de indice 6: [2, 4, 5, 10, 7, 9, 8, 1]\n",
      "Evolucion de la lista tras procesar el node de indice 7: [1, 2, 5, 4, 7, 9, 8, 10]\n",
      "Heap: [1, 2, 5, 4, 7, 9, 8, 10]\n"
     ]
    }
   ],
   "source": [
    "def minheap_build_insert(l:list) -> list:\n",
    "    ''' Utiliza heapifyup. Coste O(n log n)'''\n",
    "    \n",
    "    for i in range(len(l)):\n",
    "        heapify_up(l, i)\n",
    "        print(f'Evolucion de la lista tras procesar el node de indice {i}: {l}') \n",
    "        \n",
    "    return l\n",
    "\n",
    "\n",
    "##### Driver program\n",
    "l = minheap_build_insert([10, 9, 7, 2, 4, 5, 8, 1])\n",
    "print(f'Heap: {l}')   \n"
   ]
  },
  {
   "cell_type": "markdown",
   "id": "c36b9003",
   "metadata": {},
   "source": [
    "             10                                1\n",
    "          /     \\                           /     \\\n",
    "        9        7           ==>           2       5\n",
    "       / \\      /  \\                     /  \\     /  \\     \n",
    "      2   4    5    8                   4    7   9    8\n",
    "     /                                 /  \n",
    "    1                                 10"
   ]
  },
  {
   "cell_type": "markdown",
   "id": "630b2f04",
   "metadata": {},
   "source": [
    "Notad como los dos procedimientos para construir un min-heap **no** producen la misma distribución de los nodos en el árbol."
   ]
  },
  {
   "cell_type": "markdown",
   "id": "53025144-462b-43cc-aa5f-4577ba55d429",
   "metadata": {},
   "source": [
    "**¿Cuál es el coste de los dos procedimientos? (razonamiento intuitivo)**\n",
    "\n",
    "En ambos casos, _recolocar_ un nodo en su posición final dentro del heap cuesta, en el peor caso, $O(\\ln n)$. \n",
    "Si asumimos ingenuamente que cada uno de los $n$ nodos requiere ese coste, obtendríamos una complejidad $O(n \\ln n)$.\n",
    "\n",
    "Sin embargo, existe una **diferencia fundamental** entre los dos enfoques:\n",
    "* Teniendo en cuenta que en un árbol binario completo, la mayoría de los nodos se encuentran en los niveles inferiores (aproximadamente la mitad son hojas, un cuarto son padres de hojas, etc.), \n",
    "en el procedimiento `minheap_build()`, la mayor parte de los nodos que ejecutan la operación recursiva `heapify_down()` se encontrarán lejos de la raíz. Como `heapify_down()` hace que el nodo descienda por el árbol, el número de pasos necesarios para recolocar un nodo, **en promedio,** es reducido.\n",
    "* En cambio, en el procedimiento `minheap_build_insert()` los elementos se insertan desde el fondo y deben recolocarse con `heapify_up()`. Como este procedimiento hace que el nodo ascienda hacia la raíz, la mayoría de los nodos recorrerán muchos niveles hasta alcanzar su posición correcta.\n",
    "\n",
    "**Ejemplo en el peor caso**\n",
    "\n",
    "Supongamos que queremos construir un min-Heap _in-place_ a partir de una lista estrictamente decreciente (ordenada de mayor a menor).  \n",
    "Si el número de elementos es\n",
    "$$\n",
    "n = 2^4 - 1 = 15,\n",
    "$$\n",
    "el árbol binario completo tendrá 4 niveles. \n",
    "\n",
    "* Con `minheap_build()` bastan **11 movimientos de nodos**.\n",
    "* Con `minheap_build_insert()` se requieren **40 movimientos de nodos**.\n",
    "\n",
    "**Conclusión**\n",
    "\n",
    "Aunque ambos métodos parecen tener un coste $O(n \\log n)$, el procedimiento \n",
    "`minheap_build() aprovecha la distribución de los nodos en el árbol para reducir el trabajo real, alcanzando así una complejidad óptima de $\\Theta(n)$."
   ]
  },
  {
   "cell_type": "markdown",
   "id": "39f33ac0-9228-4cca-8e01-b8aefb0f9b6f",
   "metadata": {},
   "source": [
    "**Demostración rigurosa (Ref Cormen et al.)**\n",
    "\n",
    "Sea $n$ el número de elementos y $h=\\lfloor\\log_2 n\\rfloor$ la altura del heap (nivel de la raíz = 0). Para un nodo en el nivel $i$ (con $i=0,\\dots,h$) la máxima distancia que puede bajar `heapify_down()` es $h-i$. En un árbol binario completo, el número de nodos en el nivel $i$ es a lo sumo $2^i$. Por tanto, una cota superior para el coste total $T(n)$ es\n",
    "$$\n",
    "T(n)\\le \\sum_{i=0}^{h} \\big(\\text{nodos en nivel }i\\big)\\cdot\\big(\\text{coste por nodo}\\big)\n",
    "\\le \\sum_{i=0}^{h} 2^i (h-i).\n",
    "$$\n",
    "\n",
    "Realizamos el cambio de variable $j=h-i$. Entonces $i=0,\\dots,h$ corresponde a $j=h,\\dots,0$ y\n",
    "$$\n",
    "\\sum_{i=0}^{h} 2^i (h-i)\n",
    "= \\sum_{j=0}^{h} 2^{\\,h-j}\\, j\n",
    "= 2^{h}\\sum_{j=0}^{h} j\\cdot 2^{-j}.\n",
    "$$\n",
    "\n",
    "Consideramos la suma infinita conocida\n",
    "$$\n",
    "S=\\sum_{j=0}^{\\infty} j\\cdot 2^{-j}.\n",
    "$$\n",
    "Para $|x|<1$ se tiene $\\sum_{j=0}^{\\infty} x^j = \\dfrac{1}{1-x}$. Derivando con respecto a $x$:\n",
    "$$\n",
    "\\sum_{j=1}^{\\infty} j x^{j-1} = \\frac{1}{(1-x)^2}\n",
    "\\quad\\Rightarrow\\quad\n",
    "\\sum_{j=1}^{\\infty} j x^{j} = \\frac{x}{(1-x)^2}.\n",
    "$$\n",
    "Tomando $x=\\tfrac12$ se obtiene\n",
    "$$\n",
    "S=\\sum_{j=1}^{\\infty} j\\left(\\tfrac12\\right)^j = \\frac{\\tfrac12}{(1-\\tfrac12)^2} = 2.\n",
    "$$\n",
    "(el término $j=0$ es cero, por lo que la suma desde $0$ o desde $1$ coincide).\n",
    "\n",
    "Como la suma finita está acotada por la suma infinita,\n",
    "$$\n",
    "\\sum_{j=0}^{h} j\\cdot 2^{-j} \\le \\sum_{j=0}^{\\infty} j\\cdot 2^{-j} = 2.\n",
    "$$\n",
    "Por tanto\n",
    "$$\n",
    "T(n) \\le 2^{h}\\cdot 2 = 2^{h+1}.\n",
    "$$\n",
    "\n",
    "Finalmente, por la definición de $h=\\lfloor\\log_2 n\\rfloor$ sabemos que $2^h \\le n < 2^{h+1}$. Entonces\n",
    "$$\n",
    "T(n) \\le 2^{h+1} \\le 2n.\n",
    "$$\n",
    "Esto demuestra que $T(n)=O(n)$. Como además \\texttt{build\\_heap} debe al menos leer todos los elementos una vez, se sigue que su coste es $\\Theta(n)$.\n",
    "\n",
    "**Conclusión**\n",
    "\n",
    "El algoritmo `build_heap()` que aplica el procedimiento `heapify_down()` desde el último padre hasta la raíz tiene coste $\\Theta(n)$. Nosotros hemos demostrado $T(n)\\le 2n$."
   ]
  },
  {
   "cell_type": "markdown",
   "id": "7ece377f-ffbd-4f04-baef-5c988b945177",
   "metadata": {},
   "source": [
    "**Ejercicio:**\n",
    "\n",
    "Implemente un primitiva que modifique el valor de un determinado nodo del Heap"
   ]
  },
  {
   "cell_type": "code",
   "execution_count": 138,
   "id": "24bf87d8-c8d5-46bf-a49a-f303405f05bd",
   "metadata": {},
   "outputs": [],
   "source": [
    "def minheap_modify_key(h: List, i: int, new_value: Any) -> None:\n",
    "    ''' Modifica el valor del elemento en la posición i de un min-heap\n",
    "        y restaura la propiedad de heap\n",
    "    '''\n",
    "    old_value = h[i]\n",
    "    h[i] = new_value\n",
    "    \n",
    "    if h[i] < old_value:\n",
    "         # Puede violar con el padre → subir\n",
    "        heapify_up(h, i)\n",
    "    elif h[1] > old_value:\n",
    "        # Puede violar con los hijos → bajar\n",
    "        heapify_down(h, i)"
   ]
  },
  {
   "cell_type": "code",
   "execution_count": 122,
   "id": "edb3c1e1-53b1-4de4-aae5-bfbb1d3517c9",
   "metadata": {},
   "outputs": [
    {
     "name": "stdout",
     "output_type": "stream",
     "text": [
      "new_value: 0, [0, 1, 5, 2, 7, 9, 8, 4]\n"
     ]
    }
   ],
   "source": [
    "# Driver program\n",
    "\n",
    "h = [1, 2, 5, 4, 7, 9, 8, 10]\n",
    "\n",
    "if False:\n",
    "    i = 0\n",
    "    new_value = 100\n",
    "\n",
    "if True:\n",
    "    i = len(l) - 1\n",
    "    new_value = 0\n",
    "\n",
    "modify_key(h, i, new_value)\n",
    "print(f'new_value: {new_value}, {h}')"
   ]
  },
  {
   "cell_type": "markdown",
   "id": "af704cc2-78a1-4749-9bbe-3aace5184abb",
   "metadata": {},
   "source": [
    "# Algoritmo K-Select"
   ]
  },
  {
   "cell_type": "markdown",
   "id": "2033a5d0",
   "metadata": {},
   "source": [
    "# Colas de Prioridad (PQ)"
   ]
  },
  {
   "cell_type": "markdown",
   "id": "5ad3528d",
   "metadata": {},
   "source": [
    "* Son colas con las primitivas estándar `build()`, `insert()`, `remove()`, ... etc pero donde:\n",
    "    * Cada elemento tiene asociada una prioridad que determina su lugar en la PQ después de la inserción\n",
    "    * Supondremos que los valores más pequeños tienen una prioridad más alta\n",
    "    * `insert(x)` situa x *después* de los elementos en la PQ con menor prioridad y *antes* aquellos con mayor prioridad\n",
    "        * **Cuidado:** *Antes* y *después* **no** debe *entenderse en el sentido de que los elementos deban estar ordenados dentro de la PQ*. Lo fundamental es asegurar que cada vez que se extraiga un elemento se extraiga el de mayor prioridad de los almacenados en la cola. \n",
    "    * `remove()` extrae el elemento de menor prioridad manteniendo la prioridad de los demás elementos"
   ]
  },
  {
   "cell_type": "markdown",
   "id": "79beca25",
   "metadata": {},
   "source": [
    "## PQ sobre Heaps\n",
    "\n",
    "* Conceptualmente construimos un *min-heap* donde cada nodo (objeto) es un par: contiene su prioridad y un enlace a sus datos.\n",
    "* Construimos un *min-heap* de acuerdo a las prioridades de los objetos\n",
    "* Las primitivas de PQ invocan a las de *min-heap*\n",
    "    * `insert()` realiza la insercción en el *min-Heap*\n",
    "    * `remove()` elimina la raíz del *min-Heap*"
   ]
  },
  {
   "cell_type": "markdown",
   "id": "cbe636a7-b0d1-4ffb-9c85-815ba3a5ef95",
   "metadata": {},
   "source": [
    "**Implementación _sencilla_ de la Cola de prioridad**\n",
    "\n",
    "Teniendo en cuenta que en Python el operador $<$ está definido para tuplas, cada objeto de la cola de prioridad será una tupla cuyo primer elemento será la prioridad. "
   ]
  },
  {
   "cell_type": "code",
   "execution_count": 135,
   "id": "d0e3a026",
   "metadata": {},
   "outputs": [
    {
     "name": "stdout",
     "output_type": "stream",
     "text": [
      "Evolucion de la lista tras procesar el node de indice 1: [(5, 'write code'), (6, 'run text'), (4, 'create test'), (7, 'release product')]\n",
      "Evolucion de la lista tras procesar el node de indice 0: [(4, 'create test'), (6, 'run text'), (5, 'write code'), (7, 'release product')]\n",
      "[(4, 'create test'), (6, 'run text'), (5, 'write code'), (7, 'release product')]\n",
      "Insert in the pq: (2, 'write spec')\n",
      "[(2, 'write spec'), (4, 'create test'), (5, 'write code'), (7, 'release product'), (6, 'run text')]\n",
      "Remove: (2, 'write spec')\n",
      "[(4, 'create test'), (6, 'run text'), (5, 'write code'), (7, 'release product')]\n"
     ]
    }
   ],
   "source": [
    "pq_insert = minheap_insert\n",
    "pq_remove = minheap_extract\n",
    "pq_build = minheap_build\n",
    "pq_modify = minheap_modify_key\n",
    "\n",
    "# Driver program\n",
    "\n",
    "x = (5, \"write code\")\n",
    "y = (7, \"release product\")\n",
    "z = (4, \"create test\")\n",
    "d = (6, \"run text\")\n",
    "\n",
    "\n",
    "# Creamos una cola de prioridad con los elementos\n",
    "pq = [x, y, z, d]\n",
    "pq_build(pq)\n",
    "print(pq)\n",
    "\n",
    "# insertamos un nuevo elemento en la cola\n",
    "w = (2, \"write spec\")\n",
    "print(f'Insert in the pq: {w}')\n",
    "pq_insert(pq, w)               \n",
    "print(pq)\n",
    "\n",
    "# Eliminamos un objeto de la cola\n",
    "element = pq_remove(pq)\n",
    "print(f'Remove: {element}')\n",
    "print(pq)\n"
   ]
  },
  {
   "cell_type": "markdown",
   "id": "338ede18",
   "metadata": {},
   "source": [
    "\n",
    "# Temas avanzados (**)\n",
    "\n",
    "__(**) NO OBLIGATORIOS__  **Sólo** si tienes curiosidad y tiempo, recuerda que tienes otras asignaturas!!.\n",
    "\n",
    "## Heap de objetos (Items)\n",
    "\n",
    "*Referencia introduccción POO: *Introduction to Computation and Programming Using Python with Application to \n",
    "Computational Modeling and Understanding Data*, J. Guttag, Chapter 10 \n",
    "\n",
    "* El problema con el planteamiento anterior es que *rompemos* los objetos al desligar la prioridad de los datos de su información. En realidad **no** tenemos un Heap de objetos sino un un *heap de prioridades de objetos*. Si extrayésemos una prioridad del minHeap tendríamos que buscar a que objeto corresponde esa prioridad.  \n",
    "\n",
    "* Ahora queremos construir un *minHeap* en el que sus nodos sean *objetos (pares)* y no enteros. Para ello los objetos deben ser *objetos ordenables*, i.e, dados dos objetos cualesquiera deben poder compararse y decidir cual de ellos es menor. ¿Cómo podemos hacerlo? \n",
    "Una posibilidad es considerar a los objetos como pares con una *llave o clave* y un *valor* (llave, valor). \n",
    "Los objetos se compararán por el valor de su *llave*: dados dos objetos el menor será aquel cuya clave es menor. \n",
    "Es decir debemos *redefinir (sobrecargar)* el operador de comparación $<$.\n",
    "\n",
    "   En Python podemos construir tales objetos definiendo una clase e incorporando el método mágico `__lt__()`. En este caso hemos definido la clase `Item` con dos variable privadas `__key` y `__value`. \n",
    "    \n",
    "   En [pythontutor](https://pythontutor.com/render.html#code=_parent%20%3D%20lambda%20i%3A%20%20%28i-1%29//2%20%20%0A%0Adef%20_heapify%20%28h,%20i%29%3A%0A%20%20%20%20'''%20Version%202%20%28transparencias%29'''%0A%20%20%20%20while%202*i%2B1%20%3C%20len%28h%29%3A%0A%20%20%20%20%20%20%20%20n_i%20%3D%20i%0A%20%20%20%20%20%20%20%20%0A%20%20%20%20%20%20%20%20if%20h%5Bi%5D%20%3E%20h%5B2*i%2B1%5D%3A%0A%20%20%20%20%20%20%20%20%20%20%20%20n_i%20%3D%202*i%2B1%0A%20%20%20%20%20%20%20%20if%202*i%2B2%20%3C%20len%28h%29%20and%20h%5Bi%5D%20%3E%20h%5B2*i%2B2%5D%20and%20h%5B2*i%2B2%5D%20%3C%20h%5Bn_i%5D%3A%0A%20%20%20%20%20%20%20%20%20%20%20%20n_i%20%3D%202*i%2B2%0A%0A%20%20%20%20%20%20%20%20if%20n_i%20%3E%20i%3A%0A%20%20%20%20%20%20%20%20%20%20%20%20h%5Bi%5D,%20h%5Bn_i%5D%20%3D%20h%5Bn_i%5D,%20h%5Bi%5D%0A%20%20%20%20%20%20%20%20%20%20%20%20i%20%3D%20n_i%0A%20%20%20%20%20%20%20%20else%3A%0A%20%20%20%20%20%20%20%20%20%20%20%20return%0A%0Adef%20minheap_build%20%28l%3Alist%29%20-%3E%20list%3A%0A%20%20%20%20'''%20utiliza%20heapify'''%0A%20%20%20%20%0A%20%20%20%20j%20%3D%20_parent%28len%28l%29-1%29%20%20%23%C3%ADndice%20del%20padre%20del%20ultimo%20nodo%20%0A%0A%20%20%20%20while%20j%20%3E-1%3A%0A%20%20%20%20%20%20%20%20_heapify%20%28l,%20j%29%0A%20%20%20%20%20%20%20%20j%20-%3D%201%0A%20%20%20%20%20%20%20%20%20%20%20%0A%0Aclass%20Item%3A%0A%20%20%20%20'''Lightweight%20composite%20to%20store%20heap%20items.'''%0A%20%20%20%20%20%20%20%20%0A%20%20%20%20def%20__init__%28self,%20key%3Aint,%20value%3Astr%29%3A%0A%20%20%20%20%20%20%20%20'''Inicializa%20un%20objeto%20como%20un%20par%20%28llave%3Aint,%20valor%3AString%29'''%0A%20%20%20%20%20%20%20%20self._key%20%3D%20key%0A%20%20%20%20%20%20%20%20self._value%20%3D%20value%0A%20%20%20%20%0A%20%20%20%20def%20__lt__%28self,other%29%3A%0A%20%20%20%20%20%20%20%20'''Los%20objetos%20se%20comparan%20por%20el%20valor%20de%20su%20llave'''%0A%20%20%20%20%20%20%20%20return%20self._key%20%3C%20other._key%0A%20%20%20%20%0A%20%20%20%20def%20__str__%28self%29%3A%0A%20%20%20%20%20%20%20%20'''Consideramos%20que%20el%20valor%20de%20los%20objetos%20son%20cadenas%20de%20caracteres'''%0A%20%20%20%20%20%20%20%20return%20f'%28%7Bself._key%7D,%20%7Bself._value%7D%29'%0A%20%20%20%20%0A%20%20%20%20def%20__repr__%28self%29%3A%0A%20%20%20%20%20%20%20%20'''...'''%0A%20%20%20%20%20%20%20%20return%20str%28self%29%0A%20%20%20%20%20%20%20%20%0A%23%23%23%20Driver%20Programm%0A%0Ax%20%3D%20Item%2814,'Eduardo'%29%0Ay%20%3D%20Item%2810,%20%22Carlos%22%29%0A%0A%23%20Como%20cualquier%20objeto%20de%20Python,%20los%20items%20los%20podemos%20guardar%20en%20un%20contenedor%0Al%20%3D%20%5Bx,%20y%5D%0A%0A%23%20Podemos%20construir%20un%20Heap%0Aminheap_build%20%28l%29&cumulative=false&curInstr=40&heapPrimitives=nevernest&mode=display&origin=opt-frontend.js&py=3&rawInputLstJSON=%5B%5D&textReferences=false) se ha incluído una ejecución simplificada del *programa driver*."
   ]
  },
  {
   "cell_type": "code",
   "execution_count": 42,
   "id": "90bbc237",
   "metadata": {},
   "outputs": [
    {
     "name": "stdout",
     "output_type": "stream",
     "text": [
      "x: (5, write code), y:(7, release product)\n",
      "¿Es x < y?  True\n",
      "Despues de construir el min Heap: [(2, write spec), (5, write code), (4, create test), (7, release product)]\n",
      "Despues de extraer: [(4, create test), (5, write code), (7, release product)]\n"
     ]
    }
   ],
   "source": [
    "class Item:\n",
    "    '''Lightweight composite to store heap items.'''\n",
    "        \n",
    "    def __init__(self, key:int, value:str):\n",
    "        '''Inicializa un objeto como un par (llave:int, valor:String)'''\n",
    "        self._key = key\n",
    "        self._value = value\n",
    "    \n",
    "    def __lt__(self,other):\n",
    "        '''Los objetos se comparan por el valor de su llave'''\n",
    "        return self._key < other._key\n",
    "    \n",
    "    def __str__(self):\n",
    "        '''Consideramos que el valor de los objetos son cadenas de caracteres'''\n",
    "        return f'({self._key}, {self._value})'\n",
    "    \n",
    "    def __repr__(self):\n",
    "        '''...'''\n",
    "        return str(self)\n",
    "\n",
    "    \n",
    "### Driver Programm\n",
    "\n",
    "x = Item(5, \"write code\")\n",
    "y = Item(7, \"release product\")\n",
    "z = Item(4, \"create test\")\n",
    "w = Item(2, \"write spec\")\n",
    "\n",
    "# Los items son objetos ordenables. La comparación se hace a través de las claves \n",
    "print(f'x: {x}, y:{y}')\n",
    "print(f'¿Es x < y?  {x<y}') \n",
    "\n",
    "# Podemos construir un Heap con los items\n",
    "l = minheap_build ([x, y,  z, w])\n",
    "print(f'Despues de construir el min Heap: {l}')\n",
    "\n",
    "minheap_extract(l)\n",
    "print(f'Despues de extraer: {l}')\n"
   ]
  },
  {
   "cell_type": "markdown",
   "id": "ef5b0418",
   "metadata": {},
   "source": [
    "* Podemos construir la cola de prioridad exactamente igual que antes enlazando las funciones de la cola de prioridad con las del Heap"
   ]
  },
  {
   "cell_type": "code",
   "execution_count": 37,
   "id": "c829a5fb",
   "metadata": {},
   "outputs": [
    {
     "name": "stdout",
     "output_type": "stream",
     "text": [
      "[(5, Simone), (10, Carlos), (14, Eduardo)]\n",
      "[(1, Jose), (5, Simone), (14, Eduardo), (10, Carlos)]\n",
      "[(5, Simone), (10, Carlos), (14, Eduardo)]\n"
     ]
    }
   ],
   "source": [
    "pq_insert = minheap_insert\n",
    "pq_remove = minheap_extract\n",
    "pq_build = minheap_build\n",
    "\n",
    "pq = pq_build([x, y, z])\n",
    "print(pq)\n",
    "\n",
    "pq_insert (pq, w)               \n",
    "print(pq)\n",
    "               \n",
    "pq_remove (pq)\n",
    "print (pq)"
   ]
  },
  {
   "cell_type": "markdown",
   "id": "081cb5bb",
   "metadata": {},
   "source": [
    "## Cola de prioridad como una clase (**)\n",
    "\n",
    "Referencia: *Data Structures and Algorithms in Python*, M. Goodrich et. al.  \n",
    "\n",
    "\n",
    "* Un planteamiento muy habitual es definir una clase para la cola de prioridad en la que el Heap es la estructura de datos que utilizamos para guardar los elementos de la PQ."
   ]
  },
  {
   "cell_type": "code",
   "execution_count": 38,
   "id": "bf5563f2",
   "metadata": {},
   "outputs": [
    {
     "name": "stdout",
     "output_type": "stream",
     "text": [
      "[(5, write code), (7, release product)]\n",
      "[(7, release product)]\n",
      "[(4, create test), (7, release product)]\n",
      "2\n",
      "(4, create test)\n",
      "(7, release product)\n"
     ]
    }
   ],
   "source": [
    "class PriorityQueue:\n",
    "    '''......'''\n",
    "    def __init__(self, *args):\n",
    "        # Estructura de datos para implementar la PQ \n",
    "        self._h = list(args)\n",
    "        self._size = len(self._h)\n",
    "        \n",
    "        minheap_build(self._h)\n",
    "            \n",
    "    def extract(self):\n",
    "        return minheap_extract(self._h)\n",
    "    \n",
    "    def insert(self, obj):\n",
    "        return minheap_insert (self._h, obj)\n",
    "    \n",
    "    def __len__(self):\n",
    "        return self._size\n",
    "    \n",
    "    def __str__(self):\n",
    "        return str(self._h)\n",
    "    \n",
    "    def __iter__(self):\n",
    "        return iter(self._h)\n",
    "        \n",
    "              \n",
    "x, y, z = Item(5,\"write code\"), Item(7,\"release product\"), Item(2, 'write spec')      \n",
    "\n",
    "pq = PriorityQueue(x, y)    \n",
    "print(pq)\n",
    "\n",
    "pq.extract()\n",
    "print(pq)\n",
    "\n",
    "pq.insert(Item(4, \"create test\"))\n",
    "print(pq)\n",
    "\n",
    "print(len(pq))\n",
    "\n",
    "for i in pq:\n",
    "    print(i)"
   ]
  },
  {
   "cell_type": "markdown",
   "id": "37958b12",
   "metadata": {},
   "source": [
    "* Si has investigado por la web, te habrás dado cuenta que el módulo `heapq` implementa *Heaps*. Podemos cambiar nuestra implementación de PQ para que utilice las funciones de este módulo."
   ]
  },
  {
   "cell_type": "code",
   "execution_count": 39,
   "id": "5961ce74",
   "metadata": {},
   "outputs": [
    {
     "name": "stdout",
     "output_type": "stream",
     "text": [
      "[(2, write spec), (7, release product), (5, write code)]\n"
     ]
    }
   ],
   "source": [
    "import heapq as hp\n",
    "\n",
    "x, y, z = Item(5,\"write code\"), Item(7,\"release product\"), Item(2, 'write spec')   \n",
    "\n",
    "# Prueba de las funciones de heapq\n",
    "h = []\n",
    "hp.heappush(h, x)\n",
    "hp.heappush(h, y)\n",
    "hp.heappush(h, z)\n",
    "print(h)"
   ]
  },
  {
   "cell_type": "code",
   "execution_count": 40,
   "id": "45eaf2bb",
   "metadata": {},
   "outputs": [
    {
     "name": "stdout",
     "output_type": "stream",
     "text": [
      "[(5, write code), (7, release product)]\n",
      "[(7, release product)]\n",
      "[(2, write spec), (7, release product)]\n",
      "2\n",
      "(2, write spec)\n",
      "(7, release product)\n"
     ]
    }
   ],
   "source": [
    "class PriorityQueueHeapq:\n",
    "    '''......'''\n",
    "    def __init__(self, *lista:Item):\n",
    "        self._h = []\n",
    "        self._size = len(lista)\n",
    "        \n",
    "        # inserta los objetos en la lista\n",
    "        for obj in lista:\n",
    "            hp.heappush (self._h, obj)\n",
    "            \n",
    "    def extract(self):\n",
    "        return hp.heappop(self._h)\n",
    "    \n",
    "    def insert(self, obj):\n",
    "        return hp.heappush (self._h, obj)\n",
    "    \n",
    "    def __len__(self):\n",
    "        return self._size\n",
    "    \n",
    "    def __str__(self):\n",
    "        return str(self._h)\n",
    "    \n",
    "    def __iter__(self):\n",
    "        return iter(self._h)\n",
    "        \n",
    "# Driver programm              \n",
    "            \n",
    "pq = PriorityQueueHeapq(x, y)    \n",
    "print(pq)\n",
    "\n",
    "pq.extract()\n",
    "print(pq)\n",
    "\n",
    "pq.insert(z)\n",
    "print(pq)\n",
    "\n",
    "print(len(pq))\n",
    "\n",
    "for i in pq:\n",
    "    print(i)"
   ]
  },
  {
   "cell_type": "code",
   "execution_count": null,
   "id": "4ebb374e",
   "metadata": {},
   "outputs": [],
   "source": []
  }
 ],
 "metadata": {
  "hide_input": false,
  "kernelspec": {
   "display_name": "Python 3 (ipykernel)",
   "language": "python",
   "name": "python3"
  },
  "language_info": {
   "codemirror_mode": {
    "name": "ipython",
    "version": 3
   },
   "file_extension": ".py",
   "mimetype": "text/x-python",
   "name": "python",
   "nbconvert_exporter": "python",
   "pygments_lexer": "ipython3",
   "version": "3.12.3"
  },
  "latex_envs": {
   "LaTeX_envs_menu_present": true,
   "autoclose": false,
   "autocomplete": true,
   "bibliofile": "biblio.bib",
   "cite_by": "apalike",
   "current_citInitial": 1,
   "eqLabelWithNumbers": true,
   "eqNumInitial": 1,
   "hotkeys": {
    "equation": "Ctrl-E",
    "itemize": "Ctrl-I"
   },
   "labels_anchors": false,
   "latex_user_defs": false,
   "report_style_numbering": false,
   "user_envs_cfg": false
  },
  "nbTranslate": {
   "displayLangs": [
    "en",
    "es"
   ],
   "hotkey": "alt-t",
   "langInMainMenu": true,
   "sourceLang": "es",
   "targetLang": "en",
   "useGoogleTranslate": true
  },
  "toc": {
   "base_numbering": 1,
   "nav_menu": {},
   "number_sections": true,
   "sideBar": true,
   "skip_h1_title": false,
   "title_cell": "Table of Contents",
   "title_sidebar": "Contents",
   "toc_cell": false,
   "toc_position": {},
   "toc_section_display": true,
   "toc_window_display": false
  }
 },
 "nbformat": 4,
 "nbformat_minor": 5
}
